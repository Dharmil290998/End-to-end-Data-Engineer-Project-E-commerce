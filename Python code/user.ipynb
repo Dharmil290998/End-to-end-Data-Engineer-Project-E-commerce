{
 "cells": [
  {
   "cell_type": "code",
   "execution_count": 1,
   "id": "d11e84b8",
   "metadata": {},
   "outputs": [],
   "source": [
    "# data reading, writing, exploration, cleaning\n",
    "import pandas as pd\n",
    "# array creation and operation\n",
    "import numpy as np \n",
    "# plotting library\n",
    "import matplotlib.pyplot as plt \n",
    "# data visualization library\n",
    "import seaborn as sns\n",
    "# remove warnings\n",
    "import warnings\n",
    "warnings.filterwarnings('ignore')"
   ]
  },
  {
   "cell_type": "code",
   "execution_count": 2,
   "id": "5796fa45",
   "metadata": {},
   "outputs": [
    {
     "data": {
      "text/html": [
       "<div>\n",
       "<style scoped>\n",
       "    .dataframe tbody tr th:only-of-type {\n",
       "        vertical-align: middle;\n",
       "    }\n",
       "\n",
       "    .dataframe tbody tr th {\n",
       "        vertical-align: top;\n",
       "    }\n",
       "\n",
       "    .dataframe thead th {\n",
       "        text-align: right;\n",
       "    }\n",
       "</style>\n",
       "<table border=\"1\" class=\"dataframe\">\n",
       "  <thead>\n",
       "    <tr style=\"text-align: right;\">\n",
       "      <th></th>\n",
       "      <th>user_name</th>\n",
       "      <th>customer_zip_code</th>\n",
       "      <th>customer_city</th>\n",
       "      <th>customer_state</th>\n",
       "    </tr>\n",
       "  </thead>\n",
       "  <tbody>\n",
       "    <tr>\n",
       "      <th>0</th>\n",
       "      <td>861eff4711a542e4b93843c6dd7febb0</td>\n",
       "      <td>14409</td>\n",
       "      <td>KABUPATEN PEKALONGAN</td>\n",
       "      <td>JAWA TENGAH</td>\n",
       "    </tr>\n",
       "    <tr>\n",
       "      <th>1</th>\n",
       "      <td>290c77bc529b7ac935b93aa66c333dc3</td>\n",
       "      <td>9790</td>\n",
       "      <td>KOTA BEKASI</td>\n",
       "      <td>JAWA BARAT</td>\n",
       "    </tr>\n",
       "    <tr>\n",
       "      <th>2</th>\n",
       "      <td>060e732b5b29e8181a18229c7b0b2b5e</td>\n",
       "      <td>1151</td>\n",
       "      <td>KOTA TANGERANG</td>\n",
       "      <td>BANTEN</td>\n",
       "    </tr>\n",
       "    <tr>\n",
       "      <th>3</th>\n",
       "      <td>259dac757896d24d7702b9acbbff3f3c</td>\n",
       "      <td>8775</td>\n",
       "      <td>KABUPATEN BANDUNG BARAT</td>\n",
       "      <td>JAWA BARAT</td>\n",
       "    </tr>\n",
       "    <tr>\n",
       "      <th>4</th>\n",
       "      <td>345ecd01c38d18a9036ed96c73b8d066</td>\n",
       "      <td>13056</td>\n",
       "      <td>KOTA JAKARTA TIMUR</td>\n",
       "      <td>DKI JAKARTA</td>\n",
       "    </tr>\n",
       "    <tr>\n",
       "      <th>...</th>\n",
       "      <td>...</td>\n",
       "      <td>...</td>\n",
       "      <td>...</td>\n",
       "      <td>...</td>\n",
       "    </tr>\n",
       "    <tr>\n",
       "      <th>99436</th>\n",
       "      <td>1a29b476fee25c95fbafc67c5ac95cf8</td>\n",
       "      <td>3937</td>\n",
       "      <td>KOTA TANGERANG</td>\n",
       "      <td>BANTEN</td>\n",
       "    </tr>\n",
       "    <tr>\n",
       "      <th>99437</th>\n",
       "      <td>d52a67c98be1cf6a5c84435bd38d095d</td>\n",
       "      <td>6764</td>\n",
       "      <td>KOTA PONTIANAK</td>\n",
       "      <td>KALIMANTAN BARAT</td>\n",
       "    </tr>\n",
       "    <tr>\n",
       "      <th>99438</th>\n",
       "      <td>e9f50caf99f032f0bf3c55141f019d99</td>\n",
       "      <td>60115</td>\n",
       "      <td>KABUPATEN SIDOARJO</td>\n",
       "      <td>JAWA TIMUR</td>\n",
       "    </tr>\n",
       "    <tr>\n",
       "      <th>99439</th>\n",
       "      <td>73c2643a0a458b49f58cea58833b192e</td>\n",
       "      <td>92120</td>\n",
       "      <td>KABUPATEN CIANJUR</td>\n",
       "      <td>JAWA BARAT</td>\n",
       "    </tr>\n",
       "    <tr>\n",
       "      <th>99440</th>\n",
       "      <td>84732c5050c01db9b23e19ba39899398</td>\n",
       "      <td>6703</td>\n",
       "      <td>KOTA SUKABUMI</td>\n",
       "      <td>JAWA BARAT</td>\n",
       "    </tr>\n",
       "  </tbody>\n",
       "</table>\n",
       "<p>99441 rows × 4 columns</p>\n",
       "</div>"
      ],
      "text/plain": [
       "                              user_name  customer_zip_code  \\\n",
       "0      861eff4711a542e4b93843c6dd7febb0              14409   \n",
       "1      290c77bc529b7ac935b93aa66c333dc3               9790   \n",
       "2      060e732b5b29e8181a18229c7b0b2b5e               1151   \n",
       "3      259dac757896d24d7702b9acbbff3f3c               8775   \n",
       "4      345ecd01c38d18a9036ed96c73b8d066              13056   \n",
       "...                                 ...                ...   \n",
       "99436  1a29b476fee25c95fbafc67c5ac95cf8               3937   \n",
       "99437  d52a67c98be1cf6a5c84435bd38d095d               6764   \n",
       "99438  e9f50caf99f032f0bf3c55141f019d99              60115   \n",
       "99439  73c2643a0a458b49f58cea58833b192e              92120   \n",
       "99440  84732c5050c01db9b23e19ba39899398               6703   \n",
       "\n",
       "                 customer_city    customer_state  \n",
       "0         KABUPATEN PEKALONGAN       JAWA TENGAH  \n",
       "1                  KOTA BEKASI        JAWA BARAT  \n",
       "2               KOTA TANGERANG            BANTEN  \n",
       "3      KABUPATEN BANDUNG BARAT        JAWA BARAT  \n",
       "4           KOTA JAKARTA TIMUR       DKI JAKARTA  \n",
       "...                        ...               ...  \n",
       "99436           KOTA TANGERANG            BANTEN  \n",
       "99437           KOTA PONTIANAK  KALIMANTAN BARAT  \n",
       "99438       KABUPATEN SIDOARJO        JAWA TIMUR  \n",
       "99439        KABUPATEN CIANJUR        JAWA BARAT  \n",
       "99440            KOTA SUKABUMI        JAWA BARAT  \n",
       "\n",
       "[99441 rows x 4 columns]"
      ]
     },
     "execution_count": 2,
     "metadata": {},
     "output_type": "execute_result"
    }
   ],
   "source": [
    "# loading the dataset\n",
    "df = pd.read_csv(\"C:/Users/Dell/OneDrive/Desktop/Data Engineer Project/Project-1/user_dataset.csv\")\n",
    "df"
   ]
  },
  {
   "cell_type": "code",
   "execution_count": 11,
   "id": "1128398f",
   "metadata": {},
   "outputs": [
    {
     "data": {
      "text/plain": [
       "user_name            0\n",
       "customer_zip_code    0\n",
       "customer_city        0\n",
       "customer_state       0\n",
       "dtype: int64"
      ]
     },
     "execution_count": 11,
     "metadata": {},
     "output_type": "execute_result"
    }
   ],
   "source": [
    "# checking the missing values\n",
    "df.isnull().sum()"
   ]
  },
  {
   "cell_type": "code",
   "execution_count": 3,
   "id": "c76c8551",
   "metadata": {},
   "outputs": [
    {
     "data": {
      "text/plain": [
       "Index(['user_name', 'customer_zip_code', 'customer_city', 'customer_state'], dtype='object')"
      ]
     },
     "execution_count": 3,
     "metadata": {},
     "output_type": "execute_result"
    }
   ],
   "source": [
    "# column names\n",
    "df.columns"
   ]
  },
  {
   "cell_type": "code",
   "execution_count": 12,
   "id": "2b848606",
   "metadata": {},
   "outputs": [],
   "source": [
    "df.to_csv('C:/Users/Dell/OneDrive/Desktop/Data Engineer Project/Project-1/Original dataset/user.csv', index=False)"
   ]
  }
 ],
 "metadata": {
  "kernelspec": {
   "display_name": "Python 3 (ipykernel)",
   "language": "python",
   "name": "python3"
  },
  "language_info": {
   "codemirror_mode": {
    "name": "ipython",
    "version": 3
   },
   "file_extension": ".py",
   "mimetype": "text/x-python",
   "name": "python",
   "nbconvert_exporter": "python",
   "pygments_lexer": "ipython3",
   "version": "3.11.4"
  }
 },
 "nbformat": 4,
 "nbformat_minor": 5
}
