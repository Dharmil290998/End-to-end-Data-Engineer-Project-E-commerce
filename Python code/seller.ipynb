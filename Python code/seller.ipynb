{
 "cells": [
  {
   "cell_type": "code",
   "execution_count": 1,
   "id": "cb2107a9",
   "metadata": {},
   "outputs": [],
   "source": [
    "# data reading, writing, exploration, cleaning\n",
    "import pandas as pd\n",
    "# array creation and operation\n",
    "import numpy as np \n",
    "# plotting library\n",
    "import matplotlib.pyplot as plt \n",
    "# data visualization library\n",
    "import seaborn as sns\n",
    "# remove warnings\n",
    "import warnings\n",
    "warnings.filterwarnings('ignore')"
   ]
  },
  {
   "cell_type": "code",
   "execution_count": 2,
   "id": "6081a545",
   "metadata": {},
   "outputs": [
    {
     "data": {
      "text/html": [
       "<div>\n",
       "<style scoped>\n",
       "    .dataframe tbody tr th:only-of-type {\n",
       "        vertical-align: middle;\n",
       "    }\n",
       "\n",
       "    .dataframe tbody tr th {\n",
       "        vertical-align: top;\n",
       "    }\n",
       "\n",
       "    .dataframe thead th {\n",
       "        text-align: right;\n",
       "    }\n",
       "</style>\n",
       "<table border=\"1\" class=\"dataframe\">\n",
       "  <thead>\n",
       "    <tr style=\"text-align: right;\">\n",
       "      <th></th>\n",
       "      <th>seller_id</th>\n",
       "      <th>seller_zip_code</th>\n",
       "      <th>seller_city</th>\n",
       "      <th>seller_state</th>\n",
       "    </tr>\n",
       "  </thead>\n",
       "  <tbody>\n",
       "    <tr>\n",
       "      <th>0</th>\n",
       "      <td>3442f8959a84dea7ee197c632cb2df15</td>\n",
       "      <td>13023</td>\n",
       "      <td>KOTA JAKARTA TIMUR</td>\n",
       "      <td>DKI JAKARTA</td>\n",
       "    </tr>\n",
       "    <tr>\n",
       "      <th>1</th>\n",
       "      <td>d1b65fc7debc3361ea86b5f14c68d2e2</td>\n",
       "      <td>13844</td>\n",
       "      <td>KOTA PADANG PANJANG</td>\n",
       "      <td>SUMATERA BARAT</td>\n",
       "    </tr>\n",
       "    <tr>\n",
       "      <th>2</th>\n",
       "      <td>ce3ad9de960102d0677a81f5d0bb7b2d</td>\n",
       "      <td>20031</td>\n",
       "      <td>KOTA JAKARTA BARAT</td>\n",
       "      <td>DKI JAKARTA</td>\n",
       "    </tr>\n",
       "    <tr>\n",
       "      <th>3</th>\n",
       "      <td>c0f3eea2e14555b6faeea3dd58c1b1c3</td>\n",
       "      <td>4195</td>\n",
       "      <td>KOTA TANGERANG</td>\n",
       "      <td>BANTEN</td>\n",
       "    </tr>\n",
       "    <tr>\n",
       "      <th>4</th>\n",
       "      <td>51a04a8a6bdcb23deccc82b0b80742cf</td>\n",
       "      <td>12914</td>\n",
       "      <td>KABUPATEN LAMONGAN</td>\n",
       "      <td>JAWA TIMUR</td>\n",
       "    </tr>\n",
       "    <tr>\n",
       "      <th>...</th>\n",
       "      <td>...</td>\n",
       "      <td>...</td>\n",
       "      <td>...</td>\n",
       "      <td>...</td>\n",
       "    </tr>\n",
       "    <tr>\n",
       "      <th>3090</th>\n",
       "      <td>98dddbc4601dd4443ca174359b237166</td>\n",
       "      <td>87111</td>\n",
       "      <td>KABUPATEN HULU SUNGAI TENGAH</td>\n",
       "      <td>KALIMANTAN SELATAN</td>\n",
       "    </tr>\n",
       "    <tr>\n",
       "      <th>3091</th>\n",
       "      <td>f8201cab383e484733266d1906e2fdfa</td>\n",
       "      <td>88137</td>\n",
       "      <td>KABUPATEN KOTAWARINGIN TIMUR</td>\n",
       "      <td>KALIMANTAN TENGAH</td>\n",
       "    </tr>\n",
       "    <tr>\n",
       "      <th>3092</th>\n",
       "      <td>74871d19219c7d518d0090283e03c137</td>\n",
       "      <td>4650</td>\n",
       "      <td>KOTA TANGERANG</td>\n",
       "      <td>BANTEN</td>\n",
       "    </tr>\n",
       "    <tr>\n",
       "      <th>3093</th>\n",
       "      <td>e603cf3fec55f8697c9059638d6c8eb5</td>\n",
       "      <td>96080</td>\n",
       "      <td>KABUPATEN GROBOGAN</td>\n",
       "      <td>JAWA TENGAH</td>\n",
       "    </tr>\n",
       "    <tr>\n",
       "      <th>3094</th>\n",
       "      <td>9e25199f6ef7e7c347120ff175652c3b</td>\n",
       "      <td>12051</td>\n",
       "      <td>KOTA KEDIRI</td>\n",
       "      <td>JAWA TIMUR</td>\n",
       "    </tr>\n",
       "  </tbody>\n",
       "</table>\n",
       "<p>3095 rows × 4 columns</p>\n",
       "</div>"
      ],
      "text/plain": [
       "                             seller_id  seller_zip_code  \\\n",
       "0     3442f8959a84dea7ee197c632cb2df15            13023   \n",
       "1     d1b65fc7debc3361ea86b5f14c68d2e2            13844   \n",
       "2     ce3ad9de960102d0677a81f5d0bb7b2d            20031   \n",
       "3     c0f3eea2e14555b6faeea3dd58c1b1c3             4195   \n",
       "4     51a04a8a6bdcb23deccc82b0b80742cf            12914   \n",
       "...                                ...              ...   \n",
       "3090  98dddbc4601dd4443ca174359b237166            87111   \n",
       "3091  f8201cab383e484733266d1906e2fdfa            88137   \n",
       "3092  74871d19219c7d518d0090283e03c137             4650   \n",
       "3093  e603cf3fec55f8697c9059638d6c8eb5            96080   \n",
       "3094  9e25199f6ef7e7c347120ff175652c3b            12051   \n",
       "\n",
       "                       seller_city        seller_state  \n",
       "0               KOTA JAKARTA TIMUR         DKI JAKARTA  \n",
       "1              KOTA PADANG PANJANG      SUMATERA BARAT  \n",
       "2               KOTA JAKARTA BARAT         DKI JAKARTA  \n",
       "3                   KOTA TANGERANG              BANTEN  \n",
       "4               KABUPATEN LAMONGAN          JAWA TIMUR  \n",
       "...                            ...                 ...  \n",
       "3090  KABUPATEN HULU SUNGAI TENGAH  KALIMANTAN SELATAN  \n",
       "3091  KABUPATEN KOTAWARINGIN TIMUR   KALIMANTAN TENGAH  \n",
       "3092                KOTA TANGERANG              BANTEN  \n",
       "3093            KABUPATEN GROBOGAN         JAWA TENGAH  \n",
       "3094                   KOTA KEDIRI          JAWA TIMUR  \n",
       "\n",
       "[3095 rows x 4 columns]"
      ]
     },
     "execution_count": 2,
     "metadata": {},
     "output_type": "execute_result"
    }
   ],
   "source": [
    "# loading the dataset\n",
    "df = pd.read_csv(\"C:/Users/Dell/OneDrive/Desktop/Data Engineer Project/Project-1/seller_dataset.csv\")\n",
    "df"
   ]
  },
  {
   "cell_type": "code",
   "execution_count": 6,
   "id": "cdf34e26",
   "metadata": {},
   "outputs": [
    {
     "data": {
      "text/plain": [
       "seller_id          0\n",
       "seller_zip_code    0\n",
       "seller_city        0\n",
       "seller_state       0\n",
       "dtype: int64"
      ]
     },
     "execution_count": 6,
     "metadata": {},
     "output_type": "execute_result"
    }
   ],
   "source": [
    "# checking the missing values\n",
    "df.isnull().sum()"
   ]
  },
  {
   "cell_type": "code",
   "execution_count": 7,
   "id": "4f61a559",
   "metadata": {},
   "outputs": [],
   "source": [
    "df.to_csv('C:/Users/Dell/OneDrive/Desktop/Data Engineer Project/Project-1/Original dataset/seller.csv', index=False)"
   ]
  },
  {
   "cell_type": "code",
   "execution_count": 3,
   "id": "f9cd45aa",
   "metadata": {},
   "outputs": [
    {
     "data": {
      "text/plain": [
       "Index(['seller_id', 'seller_zip_code', 'seller_city', 'seller_state'], dtype='object')"
      ]
     },
     "execution_count": 3,
     "metadata": {},
     "output_type": "execute_result"
    }
   ],
   "source": [
    "# column names\n",
    "df.columns"
   ]
  }
 ],
 "metadata": {
  "kernelspec": {
   "display_name": "Python 3 (ipykernel)",
   "language": "python",
   "name": "python3"
  },
  "language_info": {
   "codemirror_mode": {
    "name": "ipython",
    "version": 3
   },
   "file_extension": ".py",
   "mimetype": "text/x-python",
   "name": "python",
   "nbconvert_exporter": "python",
   "pygments_lexer": "ipython3",
   "version": "3.11.4"
  }
 },
 "nbformat": 4,
 "nbformat_minor": 5
}
